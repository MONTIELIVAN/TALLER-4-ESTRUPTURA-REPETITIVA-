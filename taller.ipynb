{
  "nbformat": 4,
  "nbformat_minor": 0,
  "metadata": {
    "colab": {
      "provenance": [],
      "authorship_tag": "ABX9TyP0xp+OfUIoUfhYNn65tk3a",
      "include_colab_link": true
    },
    "kernelspec": {
      "name": "python3",
      "display_name": "Python 3"
    },
    "language_info": {
      "name": "python"
    }
  },
  "cells": [
    {
      "cell_type": "markdown",
      "metadata": {
        "id": "view-in-github",
        "colab_type": "text"
      },
      "source": [
        "<a href=\"https://colab.research.google.com/github/MONTIELIVAN/TALLER-4-ESTRUPTURA-REPETITIVA-/blob/main/taller.ipynb\" target=\"_parent\"><img src=\"https://colab.research.google.com/assets/colab-badge.svg\" alt=\"Open In Colab\"/></a>"
      ]
    },
    {
      "cell_type": "markdown",
      "source": [
        "## algoritmo para  Juego de Cara o Sello\n",
        "\n",
        "1. Iniciar\n",
        "\n",
        "2. Inicializa los puntos del jugador a 0.\n",
        "\n",
        "3. Mientras el jugador quiera jugar\n",
        "- Seleccionar aleatoriamente \"cara\" o \"sello\" (resultado).\n",
        "- Inicializar el número de intentos a 3.\n",
        "\n",
        "4. Iniciar la ronda\n",
        "\n",
        "- Mostrar un mensaje indicando que comienza un nuevo juego.\n",
        "- Mostrar la pregunta: \"Adivina: ¿Cara o Sello?\"\n",
        "\n",
        "5. Mientras haya intentos disponibles\n",
        "\n",
        "- Pedir al usuario que introduzca su adivinanza (cara/sello).\n",
        "- Convertir la entrada a minúsculas para facilitar la comparación.\n",
        "\n",
        "6. Verificar la adivinanza\n",
        "\n",
        "- Si la adivinanza no es \"cara\" ni \"sello\":\n",
        "- Mostrar un mensaje de error y volver al paso 4.\n",
        "- Si la adivinanza es correcta:\n",
        "- Mostrar un mensaje de éxito.\n",
        "- Incrementar los puntos en 1.\n",
        "- Salir del bucle de intentos.\n",
        "- Si la adivinanza es incorrecta:\n",
        "- Reducir el número de intentos en 1.\n",
        "- Mostrar un mensaje de error con el número de intentos restantes.\n",
        "Si se acabaron los intentos\n",
        "\n",
        "7. Mostrar el resultado correcto.\n",
        "- Mostrar los puntos acumulados.\n",
        "- Preguntar al usuario si desea jugar de nuevo\n",
        "\n",
        "8. Si la respuesta es \"sí\":\n",
        "- Volver al paso 2.\n",
        "- Si la respuesta es \"no\":\n",
        "- Mostrar un mensaje de despedida y finalizar el juego.\n",
        "9. Finalizar"
      ],
      "metadata": {
        "id": "Zjz9PONoPXAR"
      }
    },
    {
      "cell_type": "markdown",
      "source": [
        "## pseudocodigo para Juego de Cara o Sello\n",
        "\n",
        "program_calcular_cara-o-sello\n",
        "\n",
        "//declare\n",
        "     PUNTOS <- 0\n",
        "\n",
        "        MIENTRAS VERDADERO HACER\n",
        "        RESULTADO <- SELECCIONAR_ALEATORIAMENTE(\"cara\", \"sello\")\n",
        "        INTENTOS <- 3\n",
        "        \n",
        "        IMPRIMIR \"----- Nuevo Juego -----\"\n",
        "        IMPRIMIR \"Adivina: ¿Cara o Sello?\"\n",
        "\n",
        "        MIENTRAS INTENTOS > 0 HACER\n",
        "            ADIVINANZA <- PEDIR_entrada(\"Introduce tu adivinanza (cara/sello): \")\n",
        "            ADIVINANZA <- CONVERTIR_A_MINUSCULAS(ADIVINANZA)\n",
        "\n",
        "            SI ADIVINANZA NO ES \"cara\" Y NO ES \"sello\" ENTONCES\n",
        "                IMPRIMIR \"Por favor, introduce 'cara' o 'sello'.\"\n",
        "                CONTINUAR\n",
        "            \n",
        "            SI ADIVINANZA == RESULTADO ENTONCES\n",
        "                IMPRIMIR \"¡Correcto!\"\n",
        "                PUNTOS <- PUNTOS + 1\n",
        "                SALIR DEL BUCLE\n",
        "            \n",
        "            SINO\n",
        "                INTENTOS <- INTENTOS - 1\n",
        "                IMPRIMIR \"Incorrecto. Te quedan \" + INTENTOS + \" intentos.\"\n",
        "\n",
        "        SI INTENTOS == 0 ENTONCES\n",
        "            IMPRIMIR \"Se acabaron los intentos. El resultado era '\" + RESULTADO + \"'.\"\n",
        "        \n",
        "        IMPRIMIR \"Total de puntos: \" + PUNTOS\n",
        "        \n",
        "        JUGAR_DE_NUEVO <- PEDIR_entrada(\"¿Quieres jugar de nuevo? (sí/no): \")\n",
        "        SI JUGAR_DE_NUEVO != \"sí\" ENTONCES\n",
        "            IMPRIMIR \"Gracias por jugar. ¡Hasta luego!\"\n",
        "            SALIR DEL JUEGO"
      ],
      "metadata": {
        "id": "rKmXON2yS8U0"
      }
    },
    {
      "cell_type": "code",
      "source": [
        "from random import choice\n",
        "\n",
        "print(\"elige: cara o sello\")\n",
        "my_choice = input(\" > \")\n",
        "computer = choice([\"cara\", \"sello\"])\n",
        "\n",
        "if my_choice == computer:\n",
        "  print(\"ganaste\")\n",
        "else :\n",
        "  print(\"perdiste loser: p\")"
      ],
      "metadata": {
        "colab": {
          "base_uri": "https://localhost:8080/"
        },
        "id": "Dwy5BhjBTIZx",
        "outputId": "0ad9c6db-8f7b-4bef-8af5-9fdb9da2b54d"
      },
      "execution_count": 5,
      "outputs": [
        {
          "output_type": "stream",
          "name": "stdout",
          "text": [
            "elige: cara o sello\n",
            " > nn\n",
            "perdiste loser: p\n"
          ]
        }
      ]
    },
    {
      "cell_type": "markdown",
      "source": [
        "## algoritmo para Calcular el Promedio Ponderado\n",
        "\n",
        "1. Iniciar\n",
        "\n",
        " - Inicializar suma_ponderada a 0.\n",
        " - Inicializar suma_pesos a 0.\n",
        "2. Mientras el usuario desee ingresar más calificaciones\n",
        "\n",
        "- Pedir al usuario que ingrese una calificación.\n",
        "\n",
        "- Pedir al usuario que ingrese un peso correspondiente a la calificación.\n",
        "\n",
        "3. Validar las entradas\n",
        "\n",
        "- Si la entrada no es numérica, mostrar un mensaje de error y volver al paso 2.\n",
        "4. Actualizar los totales\n",
        "\n",
        "- Calcular el valor ponderado: valor_ponderado = calificación * peso.\n",
        "- Sumar valor_ponderado a suma_ponderada.\n",
        "- Sumar peso a suma_pesos.\n",
        "5. Preguntar si desea ingresar otra calificación\n",
        "\n",
        "- Si la respuesta es \"sí\", repetir el paso 2.\n",
        "- Si la respuesta es \"no\", proceder al paso 6.\n",
        "6. Calcular el promedio ponderado\n",
        "\n",
        "- Si suma_pesos > 0:\n",
        "- Calcular promedio_ponderado = suma_ponderada / suma_pesos.\n",
        "- Mostrar el resultado: \"El promedio ponderado es: [promedio_ponderado]\".\n",
        "- Sino:\n",
        "- Mostrar mensaje: \"No se ingresaron calificaciones válidas.\"\n",
        "\n",
        "7. Finalizar"
      ],
      "metadata": {
        "id": "68sKbwzjUgYj"
      }
    },
    {
      "cell_type": "markdown",
      "source": [
        "## pseudocodigo\n",
        "program_calcular_promedio_ponderado\n",
        " suma_ponderada <- 0\n",
        "    suma_pesos <- 0\n",
        "\n",
        "    MIENTRAS VERDADERO HACER\n",
        "        IMPRIMIR \"Ingrese la calificación:\"\n",
        "        LEER calificacion\n",
        "        \n",
        "        IMPRIMIR \"Ingrese el peso (porcentaje) de la calificación:\"\n",
        "        LEER peso\n",
        "\n",
        "        SI calificacion NO ES NUMÉRICO O peso NO ES NUMÉRICO ENTONCES\n",
        "            IMPRIMIR \"Por favor, ingrese valores numéricos válidos.\"\n",
        "            CONTINUAR\n",
        "        \n",
        "        // Actualizar suma ponderada y suma de pesos\n",
        "        suma_ponderada <- suma_ponderada + (calificacion * peso)\n",
        "        suma_pesos <- suma_pesos + peso\n",
        "\n",
        "        IMPRIMIR \"¿Desea ingresar otra calificación? (sí/no):\"\n",
        "        LEER continuar\n",
        "\n",
        "        SI continuar != \"sí\" ENTONCES\n",
        "            SALIR DEL BUCLE\n",
        "\n",
        "    FIN MIENTRAS\n",
        "\n",
        "    SI suma_pesos > 0 ENTONCES\n",
        "        promedio_ponderado <- suma_ponderada / suma_pesos\n",
        "        IMPRIMIR \"El promedio ponderado es: \" + promedio_ponderado\n",
        "    SINO\n",
        "        IMPRIMIR \"No se ingresaron calificaciones válidas.\"\n",
        "FIN CALCULAR_PROMEDIO_PONDERADO"
      ],
      "metadata": {
        "id": "MYSxBF_fVolI"
      }
    },
    {
      "cell_type": "code",
      "source": [
        "def calcular_promedio_ponderado():\n",
        "    suma_ponderada = 0\n",
        "    suma_pesos = 0\n",
        "\n",
        "    while True:\n",
        "        # Pedir calificación\n",
        "        try:\n",
        "            calificacion = float(input(\"Ingrese la calificación: \"))\n",
        "            peso = float(input(\"Ingrese el peso (porcentaje) de la calificación: \"))\n",
        "        except ValueError:\n",
        "            print(\"Por favor, ingrese valores numéricos válidos.\")\n",
        "            continue\n",
        "\n",
        "        # Actualizar suma ponderada y suma de pesos\n",
        "        suma_ponderada += calificacion * peso\n",
        "        suma_pesos += peso\n",
        "\n",
        "        # Preguntar si desea ingresar otra calificación\n",
        "        continuar = input(\"¿Desea ingresar otra calificación? (sí/no): \").lower()\n",
        "        if continuar != 'sí':\n",
        "            break\n",
        "\n",
        "    # Calcular el promedio ponderado\n",
        "    if suma_pesos > 0:\n",
        "        promedio_ponderado = suma_ponderada / suma_pesos\n",
        "        print(f\"El promedio ponderado es: {promedio_ponderado:.2f}\")\n",
        "    else:\n",
        "        print(\"No se ingresaron calificaciones válidas.\")\n",
        "\n",
        "if __name__ == \"__main__\":\n",
        "    calcular_promedio_ponderado()\n"
      ],
      "metadata": {
        "colab": {
          "base_uri": "https://localhost:8080/"
        },
        "id": "Inx4r0JZWFpW",
        "outputId": "0923ef94-7e3c-4439-9acf-3910efdf952b"
      },
      "execution_count": 8,
      "outputs": [
        {
          "output_type": "stream",
          "name": "stdout",
          "text": [
            "Ingrese la calificación: 45\n",
            "Ingrese el peso (porcentaje) de la calificación: 20\n",
            "¿Desea ingresar otra calificación? (sí/no): si\n",
            "El promedio ponderado es: 45.00\n"
          ]
        }
      ]
    }
  ]
}